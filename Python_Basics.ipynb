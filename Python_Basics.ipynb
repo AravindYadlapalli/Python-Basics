{
  "nbformat": 4,
  "nbformat_minor": 0,
  "metadata": {
    "colab": {
      "name": "Python Basics.ipynb",
      "provenance": [],
      "authorship_tag": "ABX9TyPuEbIlKGUzPH1BsItxlig9",
      "include_colab_link": true
    },
    "kernelspec": {
      "name": "python3",
      "display_name": "Python 3"
    },
    "language_info": {
      "name": "python"
    }
  },
  "cells": [
    {
      "cell_type": "markdown",
      "metadata": {
        "id": "view-in-github",
        "colab_type": "text"
      },
      "source": [
        "<a href=\"https://colab.research.google.com/github/AravindYadlapalli/Python-Basics/blob/main/Python_Basics.ipynb\" target=\"_parent\"><img src=\"https://colab.research.google.com/assets/colab-badge.svg\" alt=\"Open In Colab\"/></a>"
      ]
    },
    {
      "cell_type": "code",
      "execution_count": null,
      "metadata": {
        "colab": {
          "base_uri": "https://localhost:8080/"
        },
        "id": "2Pva9b04b7U2",
        "outputId": "22167e74-c947-4923-b4f3-deddce8f1cf3"
      },
      "outputs": [
        {
          "output_type": "stream",
          "name": "stdout",
          "text": [
            "I like pytho\n",
            "13\n",
            "I Like Python\n",
            "nohtyp ekil I\n",
            "nhy klI\n"
          ]
        }
      ],
      "source": [
        "#slicing a String\n",
        "a=\"I like python\"\n",
        "print(a[0:-1])\n",
        "print(len(a))\n",
        "print(a.title())\n",
        "print(a[::-1])#It will print reverse format\n",
        "print(a[::-2])#It will print alternative numbers in reverse format(which even starts from -1 index)"
      ]
    },
    {
      "cell_type": "code",
      "source": [
        "#Reversing a String\n",
        "a=\"input\"\n",
        "print(a[::-1])\n",
        "\n",
        "#Reversing a integer\n",
        "a=int(input())\n",
        "num1=a%10\n",
        "num2=a//10\n",
        "print(num1*10+num2)"
      ],
      "metadata": {
        "colab": {
          "base_uri": "https://localhost:8080/"
        },
        "id": "E1YCiddsel5X",
        "outputId": "51c9f5ed-8eaf-4b5e-eb4e-51478068ea69"
      },
      "execution_count": null,
      "outputs": [
        {
          "output_type": "stream",
          "name": "stdout",
          "text": [
            "tupni\n",
            "46\n",
            "64\n"
          ]
        }
      ]
    },
    {
      "cell_type": "code",
      "source": [
        "#While loop\n",
        "i=0\n",
        "while(i<3):\n",
        "  i=i+1\n",
        "  print(i)"
      ],
      "metadata": {
        "colab": {
          "base_uri": "https://localhost:8080/"
        },
        "id": "jkd0zSJoe_qC",
        "outputId": "90a93534-230e-46dd-9e85-012a8b971fc2"
      },
      "execution_count": null,
      "outputs": [
        {
          "output_type": "stream",
          "name": "stdout",
          "text": [
            "1\n",
            "2\n",
            "3\n"
          ]
        }
      ]
    },
    {
      "cell_type": "code",
      "source": [
        "#Boolean Trivials\n",
        "print(0 or 1) #it will print true value that is 1\n",
        "print(0 and 1) #Now it will give second value as output until and unless the first one \"0\"\n",
        "print(1 and 6)\n",
        "print(6 or 7) #If the values are not 0 and 1 then it will print the first number\n",
        "print('a' and 'b')\n",
        "print('a' or 'b')"
      ],
      "metadata": {
        "colab": {
          "base_uri": "https://localhost:8080/"
        },
        "id": "fJjZs3uRhdr4",
        "outputId": "3b865129-e8e7-4d92-f51b-f7b614cea565"
      },
      "execution_count": null,
      "outputs": [
        {
          "output_type": "stream",
          "name": "stdout",
          "text": [
            "1\n",
            "0\n",
            "6\n",
            "6\n",
            "b\n",
            "a\n"
          ]
        }
      ]
    },
    {
      "cell_type": "code",
      "source": [
        "#If-else conditional\n",
        "a=input(\"Enter Name:\")\n",
        "if (len(a)>8):\n",
        "  print(\"hi\", a, \"nice to meet you\")\n",
        "\n",
        "else:\n",
        "  print(\"Hello\", a, \"Pleased to meet you\")"
      ],
      "metadata": {
        "colab": {
          "base_uri": "https://localhost:8080/"
        },
        "id": "bI1pbnFkjKGw",
        "outputId": "465a1ec9-08e1-46dd-8f8e-abc14ec711d7"
      },
      "execution_count": null,
      "outputs": [
        {
          "output_type": "stream",
          "name": "stdout",
          "text": [
            "Enter Name:aravindbabu\n",
            "hi aravindbabu nice to meet you\n"
          ]
        }
      ]
    },
    {
      "cell_type": "code",
      "source": [
        "#for loop in strings\n",
        "a=\"input\"\n",
        "for i in a:\n",
        "  print(i, end=\"\")"
      ],
      "metadata": {
        "colab": {
          "base_uri": "https://localhost:8080/"
        },
        "id": "_vbcjB4HkXto",
        "outputId": "ae790a03-1fda-4efb-a896-c80b47dfdf19"
      },
      "execution_count": null,
      "outputs": [
        {
          "output_type": "stream",
          "name": "stdout",
          "text": [
            "input"
          ]
        }
      ]
    },
    {
      "cell_type": "code",
      "source": [
        "#Print only Vowels from name\n",
        "a=input()\n",
        "b=\"aeiou\"\n",
        "for i in a:\n",
        "    if i in b: #Here if we use \"not in\" then it will take the chars not in b and then it prints that\n",
        "              #If we give \"in\" then it wiil print the vowels in our input\n",
        "      print(i) "
      ],
      "metadata": {
        "colab": {
          "base_uri": "https://localhost:8080/"
        },
        "id": "QvZBAfrKmBI2",
        "outputId": "f1591afa-93f5-4693-cbfe-97121ad11be3"
      },
      "execution_count": null,
      "outputs": [
        {
          "output_type": "stream",
          "name": "stdout",
          "text": [
            "aravind\n",
            "a\n",
            "a\n",
            "i\n"
          ]
        }
      ]
    },
    {
      "cell_type": "code",
      "source": [
        "#Factorial of numbers\n",
        "\n",
        "#Method-1:\n",
        "import math\n",
        "n=int(input())\n",
        "print(math.factorial(n))\n",
        "\n",
        "#Method-2:\n",
        "num=int(input())\n",
        "fact=1\n",
        "for i in range(1,num+1):\n",
        "  fact=fact*i\n",
        "print(fact)"
      ],
      "metadata": {
        "colab": {
          "base_uri": "https://localhost:8080/"
        },
        "id": "CBATAcCHowx1",
        "outputId": "19d420de-92b0-4d89-d0ad-7ed4d85778d8"
      },
      "execution_count": null,
      "outputs": [
        {
          "output_type": "stream",
          "name": "stdout",
          "text": [
            "5\n",
            "120\n",
            "5\n",
            "120\n"
          ]
        }
      ]
    },
    {
      "cell_type": "code",
      "source": [
        "#Adding numbers in a list\n",
        "a=[7,2,8,7,8,8,9,3,4,9]\n",
        "sum=0\n",
        "for i in a:\n",
        "  sum=sum+i\n",
        "print(sum)"
      ],
      "metadata": {
        "colab": {
          "base_uri": "https://localhost:8080/"
        },
        "id": "iC8Cov8ksuQq",
        "outputId": "8288ac92-643d-45f2-af80-344d18f80f1b"
      },
      "execution_count": null,
      "outputs": [
        {
          "output_type": "stream",
          "name": "stdout",
          "text": [
            "65\n"
          ]
        }
      ]
    },
    {
      "cell_type": "code",
      "source": [
        "a=[1,2,3,4]\n",
        "a.append(6)\n",
        "print(a)"
      ],
      "metadata": {
        "colab": {
          "base_uri": "https://localhost:8080/"
        },
        "id": "GtFpFYwlA_9q",
        "outputId": "3952065b-44e8-4080-afac-b0105111ef35"
      },
      "execution_count": null,
      "outputs": [
        {
          "output_type": "stream",
          "name": "stdout",
          "text": [
            "[1, 2, 3, 4, 6]\n"
          ]
        }
      ]
    },
    {
      "cell_type": "code",
      "source": [
        "#Printing numbers which are not in our mobile number\n",
        "\n",
        "\n",
        "a=[7,2,8,7,8,8,9,3,4,9]\n",
        "b=[0,1,2,3,4,5,6,7,8,9]\n",
        "for i in b:\n",
        "  if i not in a:\n",
        "    print(i)\n",
        "   "
      ],
      "metadata": {
        "colab": {
          "base_uri": "https://localhost:8080/"
        },
        "id": "pMLMUyN_Bgkv",
        "outputId": "79d72d29-0f3d-46c1-bfba-1dc83bc759c5"
      },
      "execution_count": null,
      "outputs": [
        {
          "output_type": "stream",
          "name": "stdout",
          "text": [
            "0\n",
            "1\n",
            "5\n",
            "6\n"
          ]
        }
      ]
    },
    {
      "cell_type": "code",
      "source": [
        "#Giving list as user input\n",
        "#using keywords\n",
        "a = list(map(int, input().split()))"
      ],
      "metadata": {
        "colab": {
          "base_uri": "https://localhost:8080/"
        },
        "id": "0v-Nwy_xGM7b",
        "outputId": "a3c82f9b-40b1-4e9a-d91d-217e98fe1600"
      },
      "execution_count": null,
      "outputs": [
        {
          "name": "stdout",
          "output_type": "stream",
          "text": [
            "1 2 3 4 5 6\n"
          ]
        }
      ]
    },
    {
      "cell_type": "code",
      "source": [
        "n=[1,2,3,4,5,6]\n",
        "m=n[::-2]\n",
        "\n",
        "result=1\n",
        "sum=0\n",
        "for i in n:\n",
        "  \n",
        "  result=result*i\n",
        "  print(result)\n",
        "if i not in m:\n",
        "  sum=sum+i\n",
        "  print(sum)"
      ],
      "metadata": {
        "colab": {
          "base_uri": "https://localhost:8080/"
        },
        "id": "ZtU7mmEXIE6g",
        "outputId": "8b58a7c6-066f-47ed-99bd-f0457f9d2b2e"
      },
      "execution_count": null,
      "outputs": [
        {
          "output_type": "stream",
          "name": "stdout",
          "text": [
            "1\n",
            "2\n",
            "6\n",
            "24\n",
            "120\n",
            "720\n"
          ]
        }
      ]
    },
    {
      "cell_type": "code",
      "source": [
        "#Run time input for lists\n",
        "a=list(map(int,input().split())) #Here we use split function to erase additional spaces in the list \n",
        "print(a)"
      ],
      "metadata": {
        "colab": {
          "base_uri": "https://localhost:8080/"
        },
        "id": "J2trgBld2rjP",
        "outputId": "8c919331-668c-4c23-840e-c18f17425073"
      },
      "execution_count": null,
      "outputs": [
        {
          "output_type": "stream",
          "name": "stdout",
          "text": [
            "1  2 3  4     5\n",
            "[1, 2, 3, 4, 5]\n"
          ]
        }
      ]
    },
    {
      "cell_type": "code",
      "source": [
        "a=list(map(int,input().split()))\n",
        "b=[]\n",
        "c=a[::-2]\n",
        "for i in c:\n",
        "  if i not in b:\n",
        "    i=b.append(i)\n",
        "print(c,b)\n"
      ],
      "metadata": {
        "colab": {
          "base_uri": "https://localhost:8080/"
        },
        "id": "EHjEJIN8lRAI",
        "outputId": "aa0e0dd3-35c9-476e-f865-784a7e606fd8"
      },
      "execution_count": null,
      "outputs": [
        {
          "output_type": "stream",
          "name": "stdout",
          "text": [
            "1 2 3 4 5\n",
            "[5, 3, 1] [5, 3, 1]\n"
          ]
        }
      ]
    },
    {
      "cell_type": "code",
      "source": [
        "#Sum of every elemnets in list\n",
        "a=[1,2,3,4,5,6]\n",
        "sum=1\n",
        "for i in a:\n",
        "  if i==1:\n",
        "    print(i)\n",
        "  else:\n",
        "    sum=(sum+i)\n",
        "    print(sum)"
      ],
      "metadata": {
        "colab": {
          "base_uri": "https://localhost:8080/"
        },
        "id": "4hu9fTuHr-L4",
        "outputId": "87c4445a-1e49-42d5-b485-42be35297672"
      },
      "execution_count": null,
      "outputs": [
        {
          "output_type": "stream",
          "name": "stdout",
          "text": [
            "1\n",
            "3\n",
            "6\n",
            "10\n",
            "15\n",
            "21\n",
            "40\n",
            "63\n"
          ]
        }
      ]
    },
    {
      "cell_type": "code",
      "source": [
        "#Tuples\n",
        "a=(1,2,3,4)\n",
        "#tuples are unchangeable we can't edit or remove any elements in the tuple so to edit tuple first we need to convert them into list then we can edit that\n",
        "lis=list(a)#Using List() we can conert tuple into lists \n",
        "print(lis)"
      ],
      "metadata": {
        "colab": {
          "base_uri": "https://localhost:8080/"
        },
        "id": "UPIM9tEKuR3h",
        "outputId": "e9a3f141-e6c4-440f-fb55-4afad2103d75"
      },
      "execution_count": null,
      "outputs": [
        {
          "output_type": "stream",
          "name": "stdout",
          "text": [
            "[1, 2, 3, 4]\n"
          ]
        }
      ]
    },
    {
      "cell_type": "code",
      "source": [
        "#sets\n",
        "set1={1,2,3,4,5,6,7}\n",
        "set2={1,4,6,9}\n",
        "print(set1.union(set2))\n",
        "print(set1.intersection(set2))"
      ],
      "metadata": {
        "colab": {
          "base_uri": "https://localhost:8080/"
        },
        "id": "SI4910VrvISn",
        "outputId": "4ee976ad-919f-48e8-ae14-b00d6a7fc578"
      },
      "execution_count": null,
      "outputs": [
        {
          "output_type": "stream",
          "name": "stdout",
          "text": [
            "{1, 2, 3, 4, 5, 6, 7, 9}\n",
            "{1, 4, 6}\n"
          ]
        }
      ]
    },
    {
      "cell_type": "code",
      "source": [
        "#Removing Duplicates from the list\n",
        "#2-lines code\n",
        "a=list(map(int,input().split()))\n",
        "print(list(set(a)))#Here we use set to remove duplicates from the list and to print it in list format we used list()\n",
        "\n",
        "#1-line code\n",
        "print(list(set(list(map(int,input().split())))))"
      ],
      "metadata": {
        "colab": {
          "base_uri": "https://localhost:8080/"
        },
        "id": "RFJhTi1xwEVe",
        "outputId": "e812156d-c194-4501-e72b-74fb3e5b6c67"
      },
      "execution_count": null,
      "outputs": [
        {
          "output_type": "stream",
          "name": "stdout",
          "text": [
            "1 2 3 45 56 77 7 7 8 8 89 9 9 \n",
            "[1, 2, 3, 7, 8, 9, 45, 77, 56, 89]\n",
            "1 2 2 3 4 5 5 5 6 7 8 89 9\n",
            "[1, 2, 3, 4, 5, 6, 7, 8, 9, 89]\n"
          ]
        }
      ]
    },
    {
      "cell_type": "code",
      "source": [
        "#Dictonaries in python\n",
        "dict= {\"1\":\"one\",\"2\":\"two\"}#Here \"1\" is key and \"one\" is value  \n",
        "print(dict[\"1\"])#We can access a value by using it's key\n",
        "print(dict.get(\"3\"))# Using \"get\" function we can get values for the keys and if the key not present it will display as\"None\" "
      ],
      "metadata": {
        "colab": {
          "base_uri": "https://localhost:8080/"
        },
        "id": "JWsdX1kfw231",
        "outputId": "f2980fcd-4407-4e22-e9d9-3bdc29e714cf"
      },
      "execution_count": null,
      "outputs": [
        {
          "output_type": "stream",
          "name": "stdout",
          "text": [
            "one\n",
            "None\n"
          ]
        }
      ]
    },
    {
      "cell_type": "code",
      "source": [
        "#To print values of \"abc\" chars\n",
        "dict={\"a\":\"apple\",\"b\":\"banana\",\"c\":\"cat\",\"d\":\"dog\"}\n",
        "inp=input(\"Enter chars:\")\n",
        "str=\"\"\n",
        "for i in inp:\n",
        "  str=str+dict.get(i,\"Not found\")+ \" \"\n",
        "print(str)\n"
      ],
      "metadata": {
        "colab": {
          "base_uri": "https://localhost:8080/"
        },
        "id": "NWmYDM4v0eFc",
        "outputId": "1184d721-17c6-43cc-9116-01831d0ca98e"
      },
      "execution_count": null,
      "outputs": [
        {
          "output_type": "stream",
          "name": "stdout",
          "text": [
            "Enter chars:bgha\n",
            "banana Not found Not found apple \n"
          ]
        }
      ]
    },
    {
      "cell_type": "code",
      "source": [
        "\n",
        "#To give dictonaries on run time\n",
        "dictt={}\n",
        "n=int(input(\"Enter No.of elements needed:\"))\n",
        "for i in range(n):\n",
        "  key=input(\"Enter key:\")\n",
        "  value=input(\"Enter value:\")\n",
        "  dictt[key]=value #for reading the values we need to call key \n",
        "print(dictt)"
      ],
      "metadata": {
        "colab": {
          "base_uri": "https://localhost:8080/"
        },
        "id": "98JZuMWu7TVZ",
        "outputId": "cb0de799-442c-4f77-f51a-5696648ffb2c"
      },
      "execution_count": null,
      "outputs": [
        {
          "output_type": "stream",
          "name": "stdout",
          "text": [
            "Enter No.of elements needed:3\n",
            "Enter key:1\n",
            "Enter value:one\n",
            "Enter key:2\n",
            "Enter value:two\n",
            "Enter key:3\n",
            "Enter value:three\n",
            "{'1': 'one', '2': 'two', '3': 'three'}\n"
          ]
        }
      ]
    },
    {
      "cell_type": "code",
      "source": [
        "#create a dictonaries and check whether value is div by 7 if yes then print cube root for it else print factorial of that number at final print both lists\n",
        "dict={}\n",
        "num=int(input(\"Enter No.of elements:\"))\n",
        "for i in range(num):\n",
        "  key=input(\"enter the key:\")\n",
        "  value=int(input(\"enter the value\"))\n",
        "  dict[key]=value\n",
        "print(dict)\n",
        "l1=[]\n",
        "l2=[]\n",
        "for i in dict:\n",
        "  if dict[i]%7==0:\n",
        "    l1.append(dict[i]**3)\n",
        "  else:\n",
        "    fact=1\n",
        "    for j in range(1,dict[i]+1):\n",
        "      fact=fact*j\n",
        "    l2.append(fact)\n",
        "print(f'{sum(l1)} \\n{sum(l2)}') #Run this code in gdb"
      ],
      "metadata": {
        "colab": {
          "base_uri": "https://localhost:8080/",
          "height": 304
        },
        "id": "eXRNLYwAB9zW",
        "outputId": "c269bbd2-896c-4d34-ba0e-67aeac5e932e"
      },
      "execution_count": null,
      "outputs": [
        {
          "output_type": "stream",
          "name": "stdout",
          "text": [
            "Enter No.of elements:2\n",
            "enter the key:a\n",
            "enter the value3\n",
            "enter the key:b\n",
            "enter the value7\n",
            "{'a': 3, 'b': 7}\n"
          ]
        },
        {
          "output_type": "error",
          "ename": "TypeError",
          "evalue": "ignored",
          "traceback": [
            "\u001b[0;31m---------------------------------------------------------------------------\u001b[0m",
            "\u001b[0;31mTypeError\u001b[0m                                 Traceback (most recent call last)",
            "\u001b[0;32m<ipython-input-90-0ec76ac504d1>\u001b[0m in \u001b[0;36m<module>\u001b[0;34m()\u001b[0m\n\u001b[1;32m     16\u001b[0m       \u001b[0mfact\u001b[0m\u001b[0;34m=\u001b[0m\u001b[0mfact\u001b[0m\u001b[0;34m*\u001b[0m\u001b[0mj\u001b[0m\u001b[0;34m\u001b[0m\u001b[0;34m\u001b[0m\u001b[0m\n\u001b[1;32m     17\u001b[0m     \u001b[0ml2\u001b[0m\u001b[0;34m.\u001b[0m\u001b[0mappend\u001b[0m\u001b[0;34m(\u001b[0m\u001b[0mfact\u001b[0m\u001b[0;34m)\u001b[0m\u001b[0;34m\u001b[0m\u001b[0;34m\u001b[0m\u001b[0m\n\u001b[0;32m---> 18\u001b[0;31m \u001b[0mprint\u001b[0m\u001b[0;34m(\u001b[0m\u001b[0mint\u001b[0m\u001b[0;34m(\u001b[0m\u001b[0;34mf'{sum(l1)} \\n{sum(l2)}'\u001b[0m\u001b[0;34m)\u001b[0m\u001b[0;34m)\u001b[0m\u001b[0;34m\u001b[0m\u001b[0;34m\u001b[0m\u001b[0m\n\u001b[0m",
            "\u001b[0;31mTypeError\u001b[0m: 'int' object is not callable"
          ]
        }
      ]
    },
    {
      "cell_type": "code",
      "source": [
        "#Taking inputs as lists for key and value & printing in dictonaries format\n",
        "d={}\n",
        "keylist=list(map(int,input().split()))\n",
        "valuelist=list(map(int,input().split()))\n",
        "if len(keylist)==len(valuelist):# we use len becoz there should be equal elements in key n values so it fails if we enter 2 as keys and 3 as values\n",
        "  for i in range(len(keylist)):\n",
        "    d[keylist[i]]=valuelist[i]\n",
        "  print(d)\n",
        "else:\n",
        "  print(\"Not applicable\")"
      ],
      "metadata": {
        "colab": {
          "base_uri": "https://localhost:8080/"
        },
        "id": "UxEUV6wzN8ml",
        "outputId": "dd4d3f1e-cde0-4ab8-9cd1-bdae42224e67"
      },
      "execution_count": null,
      "outputs": [
        {
          "output_type": "stream",
          "name": "stdout",
          "text": [
            "2\n",
            "4\n",
            "{2: 4}\n"
          ]
        }
      ]
    },
    {
      "cell_type": "code",
      "source": [
        "num=list(map(int,input().split()))\n",
        "b=num[::-2]\n",
        "if (num%2==1 ):\n",
        "  print(\"Its perfect square\")\n",
        "elif(num==3 and num==9):\n",
        "  print(\"Its perfect square\")\n",
        "else:\n",
        "  b%2==0\n",
        "  print(\"Perfect square\")\n",
        "\n"
      ],
      "metadata": {
        "colab": {
          "base_uri": "https://localhost:8080/",
          "height": 252
        },
        "id": "Ah3ji9ggDPyV",
        "outputId": "4f276824-6659-4bab-e11b-36dd544e2b8f"
      },
      "execution_count": null,
      "outputs": [
        {
          "name": "stdout",
          "output_type": "stream",
          "text": [
            "4 41\n"
          ]
        },
        {
          "output_type": "error",
          "ename": "TypeError",
          "evalue": "ignored",
          "traceback": [
            "\u001b[0;31m---------------------------------------------------------------------------\u001b[0m",
            "\u001b[0;31mTypeError\u001b[0m                                 Traceback (most recent call last)",
            "\u001b[0;32m<ipython-input-4-c0e81cb9dff4>\u001b[0m in \u001b[0;36m<module>\u001b[0;34m()\u001b[0m\n\u001b[1;32m      1\u001b[0m \u001b[0mnum\u001b[0m\u001b[0;34m=\u001b[0m\u001b[0mlist\u001b[0m\u001b[0;34m(\u001b[0m\u001b[0mmap\u001b[0m\u001b[0;34m(\u001b[0m\u001b[0mint\u001b[0m\u001b[0;34m,\u001b[0m\u001b[0minput\u001b[0m\u001b[0;34m(\u001b[0m\u001b[0;34m)\u001b[0m\u001b[0;34m.\u001b[0m\u001b[0msplit\u001b[0m\u001b[0;34m(\u001b[0m\u001b[0;34m)\u001b[0m\u001b[0;34m)\u001b[0m\u001b[0;34m)\u001b[0m\u001b[0;34m\u001b[0m\u001b[0;34m\u001b[0m\u001b[0m\n\u001b[1;32m      2\u001b[0m \u001b[0mb\u001b[0m\u001b[0;34m=\u001b[0m\u001b[0mnum\u001b[0m\u001b[0;34m[\u001b[0m\u001b[0;34m:\u001b[0m\u001b[0;34m:\u001b[0m\u001b[0;34m-\u001b[0m\u001b[0;36m2\u001b[0m\u001b[0;34m]\u001b[0m\u001b[0;34m\u001b[0m\u001b[0;34m\u001b[0m\u001b[0m\n\u001b[0;32m----> 3\u001b[0;31m \u001b[0;32mif\u001b[0m \u001b[0;34m(\u001b[0m\u001b[0mnum\u001b[0m\u001b[0;34m%\u001b[0m\u001b[0;36m2\u001b[0m\u001b[0;34m==\u001b[0m\u001b[0;36m1\u001b[0m \u001b[0;34m)\u001b[0m\u001b[0;34m:\u001b[0m\u001b[0;34m\u001b[0m\u001b[0;34m\u001b[0m\u001b[0m\n\u001b[0m\u001b[1;32m      4\u001b[0m   \u001b[0mprint\u001b[0m\u001b[0;34m(\u001b[0m\u001b[0;34m\"Its perfect square\"\u001b[0m\u001b[0;34m)\u001b[0m\u001b[0;34m\u001b[0m\u001b[0;34m\u001b[0m\u001b[0m\n\u001b[1;32m      5\u001b[0m \u001b[0;32melif\u001b[0m\u001b[0;34m(\u001b[0m\u001b[0mnum\u001b[0m\u001b[0;34m==\u001b[0m\u001b[0;36m3\u001b[0m \u001b[0;32mand\u001b[0m \u001b[0mnum\u001b[0m\u001b[0;34m==\u001b[0m\u001b[0;36m9\u001b[0m\u001b[0;34m)\u001b[0m\u001b[0;34m:\u001b[0m\u001b[0;34m\u001b[0m\u001b[0;34m\u001b[0m\u001b[0m\n",
            "\u001b[0;31mTypeError\u001b[0m: unsupported operand type(s) for %: 'list' and 'int'"
          ]
        }
      ]
    },
    {
      "cell_type": "code",
      "source": [
        "n = int(input())\n",
        "for i in range(0,n):\n",
        "    print(i)"
      ],
      "metadata": {
        "colab": {
          "base_uri": "https://localhost:8080/"
        },
        "id": "S44J4TPNn24Z",
        "outputId": "88813cf4-4e46-4dda-c1ea-197048b10d80"
      },
      "execution_count": null,
      "outputs": [
        {
          "output_type": "stream",
          "name": "stdout",
          "text": [
            "5\n",
            "0\n",
            "1\n",
            "2\n",
            "3\n",
            "4\n"
          ]
        }
      ]
    },
    {
      "cell_type": "code",
      "source": [
        "year=int(input())\n",
        "if(year%400==0):\n",
        "    print(\"True\")\n",
        "else:\n",
        "    print(\"False\")"
      ],
      "metadata": {
        "colab": {
          "base_uri": "https://localhost:8080/"
        },
        "id": "-o0Hxs-VsD8V",
        "outputId": "8d3dde2d-7a78-4d60-b0ae-0cda83646016"
      },
      "execution_count": null,
      "outputs": [
        {
          "output_type": "stream",
          "name": "stdout",
          "text": [
            "2400\n",
            "True\n"
          ]
        }
      ]
    },
    {
      "cell_type": "code",
      "source": [
        "n=int(input())\n",
        "arr=list(map(int,input().split()))\n",
        "lis=set(arr)\n",
        "lis.remove(max(lis))\n",
        "print(max(lis))"
      ],
      "metadata": {
        "colab": {
          "base_uri": "https://localhost:8080/"
        },
        "id": "9QjiM9iZOxfD",
        "outputId": "b2c8bb0d-a4c4-4ab3-c29d-026f5b16206a"
      },
      "execution_count": null,
      "outputs": [
        {
          "output_type": "stream",
          "name": "stdout",
          "text": [
            "3\n",
            "1 2 4\n",
            "2\n"
          ]
        }
      ]
    },
    {
      "cell_type": "code",
      "source": [
        ""
      ],
      "metadata": {
        "id": "Y0vZywHk47Jd"
      },
      "execution_count": null,
      "outputs": []
    }
  ]
}